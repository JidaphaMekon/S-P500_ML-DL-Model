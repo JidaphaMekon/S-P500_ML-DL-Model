{
  "nbformat": 4,
  "nbformat_minor": 0,
  "metadata": {
    "colab": {
      "provenance": []
    },
    "kernelspec": {
      "name": "python3",
      "display_name": "Python 3"
    },
    "language_info": {
      "name": "python"
    }
  },
  "cells": [
    {
      "cell_type": "code",
      "source": [
        "!pip install yfinance scikit-learn"
      ],
      "metadata": {
        "colab": {
          "base_uri": "https://localhost:8080/"
        },
        "collapsed": true,
        "id": "etlrgVuUjFiG",
        "outputId": "923f36ae-f92c-4feb-87f5-d1f6cabb2dcf"
      },
      "execution_count": null,
      "outputs": [
        {
          "output_type": "stream",
          "name": "stdout",
          "text": [
            "Requirement already satisfied: yfinance in /usr/local/lib/python3.12/dist-packages (0.2.65)\n",
            "Requirement already satisfied: scikit-learn in /usr/local/lib/python3.12/dist-packages (1.6.1)\n",
            "Requirement already satisfied: pandas>=1.3.0 in /usr/local/lib/python3.12/dist-packages (from yfinance) (2.2.2)\n",
            "Requirement already satisfied: numpy>=1.16.5 in /usr/local/lib/python3.12/dist-packages (from yfinance) (2.0.2)\n",
            "Requirement already satisfied: requests>=2.31 in /usr/local/lib/python3.12/dist-packages (from yfinance) (2.32.4)\n",
            "Requirement already satisfied: multitasking>=0.0.7 in /usr/local/lib/python3.12/dist-packages (from yfinance) (0.0.12)\n",
            "Requirement already satisfied: platformdirs>=2.0.0 in /usr/local/lib/python3.12/dist-packages (from yfinance) (4.3.8)\n",
            "Requirement already satisfied: pytz>=2022.5 in /usr/local/lib/python3.12/dist-packages (from yfinance) (2025.2)\n",
            "Requirement already satisfied: frozendict>=2.3.4 in /usr/local/lib/python3.12/dist-packages (from yfinance) (2.4.6)\n",
            "Requirement already satisfied: peewee>=3.16.2 in /usr/local/lib/python3.12/dist-packages (from yfinance) (3.18.2)\n",
            "Requirement already satisfied: beautifulsoup4>=4.11.1 in /usr/local/lib/python3.12/dist-packages (from yfinance) (4.13.4)\n",
            "Requirement already satisfied: curl_cffi>=0.7 in /usr/local/lib/python3.12/dist-packages (from yfinance) (0.13.0)\n",
            "Requirement already satisfied: protobuf>=3.19.0 in /usr/local/lib/python3.12/dist-packages (from yfinance) (5.29.5)\n",
            "Requirement already satisfied: websockets>=13.0 in /usr/local/lib/python3.12/dist-packages (from yfinance) (15.0.1)\n",
            "Requirement already satisfied: scipy>=1.6.0 in /usr/local/lib/python3.12/dist-packages (from scikit-learn) (1.16.1)\n",
            "Requirement already satisfied: joblib>=1.2.0 in /usr/local/lib/python3.12/dist-packages (from scikit-learn) (1.5.1)\n",
            "Requirement already satisfied: threadpoolctl>=3.1.0 in /usr/local/lib/python3.12/dist-packages (from scikit-learn) (3.6.0)\n",
            "Requirement already satisfied: soupsieve>1.2 in /usr/local/lib/python3.12/dist-packages (from beautifulsoup4>=4.11.1->yfinance) (2.7)\n",
            "Requirement already satisfied: typing-extensions>=4.0.0 in /usr/local/lib/python3.12/dist-packages (from beautifulsoup4>=4.11.1->yfinance) (4.14.1)\n",
            "Requirement already satisfied: cffi>=1.12.0 in /usr/local/lib/python3.12/dist-packages (from curl_cffi>=0.7->yfinance) (1.17.1)\n",
            "Requirement already satisfied: certifi>=2024.2.2 in /usr/local/lib/python3.12/dist-packages (from curl_cffi>=0.7->yfinance) (2025.8.3)\n",
            "Requirement already satisfied: python-dateutil>=2.8.2 in /usr/local/lib/python3.12/dist-packages (from pandas>=1.3.0->yfinance) (2.9.0.post0)\n",
            "Requirement already satisfied: tzdata>=2022.7 in /usr/local/lib/python3.12/dist-packages (from pandas>=1.3.0->yfinance) (2025.2)\n",
            "Requirement already satisfied: charset_normalizer<4,>=2 in /usr/local/lib/python3.12/dist-packages (from requests>=2.31->yfinance) (3.4.3)\n",
            "Requirement already satisfied: idna<4,>=2.5 in /usr/local/lib/python3.12/dist-packages (from requests>=2.31->yfinance) (3.10)\n",
            "Requirement already satisfied: urllib3<3,>=1.21.1 in /usr/local/lib/python3.12/dist-packages (from requests>=2.31->yfinance) (2.5.0)\n",
            "Requirement already satisfied: pycparser in /usr/local/lib/python3.12/dist-packages (from cffi>=1.12.0->curl_cffi>=0.7->yfinance) (2.22)\n",
            "Requirement already satisfied: six>=1.5 in /usr/local/lib/python3.12/dist-packages (from python-dateutil>=2.8.2->pandas>=1.3.0->yfinance) (1.17.0)\n"
          ]
        }
      ]
    },
    {
      "cell_type": "code",
      "source": [
        "!pip install pandas_market_calendars"
      ],
      "metadata": {
        "id": "IZtdJUdh1Ihn",
        "colab": {
          "base_uri": "https://localhost:8080/"
        },
        "collapsed": true,
        "outputId": "5e727d36-ddd1-4102-985c-f34396783c7b"
      },
      "execution_count": null,
      "outputs": [
        {
          "output_type": "stream",
          "name": "stdout",
          "text": [
            "Collecting pandas_market_calendars\n",
            "  Downloading pandas_market_calendars-5.1.1-py3-none-any.whl.metadata (9.7 kB)\n",
            "Requirement already satisfied: pandas>=1.1 in /usr/local/lib/python3.12/dist-packages (from pandas_market_calendars) (2.2.2)\n",
            "Requirement already satisfied: tzdata in /usr/local/lib/python3.12/dist-packages (from pandas_market_calendars) (2025.2)\n",
            "Requirement already satisfied: python-dateutil in /usr/local/lib/python3.12/dist-packages (from pandas_market_calendars) (2.9.0.post0)\n",
            "Collecting exchange-calendars>=3.3 (from pandas_market_calendars)\n",
            "  Downloading exchange_calendars-4.11.1-py3-none-any.whl.metadata (38 kB)\n",
            "Requirement already satisfied: numpy in /usr/local/lib/python3.12/dist-packages (from exchange-calendars>=3.3->pandas_market_calendars) (2.0.2)\n",
            "Collecting pyluach (from exchange-calendars>=3.3->pandas_market_calendars)\n",
            "  Downloading pyluach-2.2.0-py3-none-any.whl.metadata (4.3 kB)\n",
            "Requirement already satisfied: toolz in /usr/local/lib/python3.12/dist-packages (from exchange-calendars>=3.3->pandas_market_calendars) (0.12.1)\n",
            "Collecting korean_lunar_calendar (from exchange-calendars>=3.3->pandas_market_calendars)\n",
            "  Downloading korean_lunar_calendar-0.3.1-py3-none-any.whl.metadata (2.8 kB)\n",
            "Requirement already satisfied: pytz>=2020.1 in /usr/local/lib/python3.12/dist-packages (from pandas>=1.1->pandas_market_calendars) (2025.2)\n",
            "Requirement already satisfied: six>=1.5 in /usr/local/lib/python3.12/dist-packages (from python-dateutil->pandas_market_calendars) (1.17.0)\n",
            "Downloading pandas_market_calendars-5.1.1-py3-none-any.whl (127 kB)\n",
            "\u001b[2K   \u001b[90m━━━━━━━━━━━━━━━━━━━━━━━━━━━━━━━━━━━━━━━━\u001b[0m \u001b[32m127.4/127.4 kB\u001b[0m \u001b[31m5.0 MB/s\u001b[0m eta \u001b[36m0:00:00\u001b[0m\n",
            "\u001b[?25hDownloading exchange_calendars-4.11.1-py3-none-any.whl (208 kB)\n",
            "\u001b[2K   \u001b[90m━━━━━━━━━━━━━━━━━━━━━━━━━━━━━━━━━━━━━━━━\u001b[0m \u001b[32m208.9/208.9 kB\u001b[0m \u001b[31m5.3 MB/s\u001b[0m eta \u001b[36m0:00:00\u001b[0m\n",
            "\u001b[?25hDownloading korean_lunar_calendar-0.3.1-py3-none-any.whl (9.0 kB)\n",
            "Downloading pyluach-2.2.0-py3-none-any.whl (25 kB)\n",
            "Installing collected packages: korean_lunar_calendar, pyluach, exchange-calendars, pandas_market_calendars\n",
            "Successfully installed exchange-calendars-4.11.1 korean_lunar_calendar-0.3.1 pandas_market_calendars-5.1.1 pyluach-2.2.0\n"
          ]
        }
      ]
    },
    {
      "cell_type": "markdown",
      "source": [
        "\"GOOG\", \"T\", \"CHTR\", \"CMCSA\", \"EA\", \"FOXA\", \"FOX\", \"IPG\", \"LYV\",\n",
        "           \"MTCH\", \"META\", \"NFLX\", \"NWSA\", \"NWS\", \"OMC\", \"PARA\", \"TMUS\", \"TTWO\", \"TKO\",\n",
        "           \"VZ\", \"DIS\", \"WBD"
      ],
      "metadata": {
        "id": "kHDwh4BZjIej"
      }
    },
    {
      "cell_type": "code",
      "source": [
        "# นำเข้าไลบรารีที่จำเป็น\n",
        "import yfinance as yf\n",
        "import pandas as pd\n",
        "import numpy as np\n",
        "from datetime import datetime, timedelta\n",
        "import pandas_market_calendars as mcal\n",
        "\n",
        "# ไลบรารีสำหรับ Machine Learning\n",
        "from sklearn.model_selection import train_test_split\n",
        "from sklearn.linear_model import LinearRegression, Ridge, Lasso\n",
        "from sklearn.ensemble import RandomForestRegressor\n",
        "from sklearn.metrics import mean_squared_error, mean_absolute_error, r2_score\n",
        "\n",
        "# ------------------------------\n",
        "# 1. ดาวน์โหลดข้อมูลหุ้น\n",
        "# ------------------------------\n",
        "tickers = [\"GOOGL\"]\n",
        "\n",
        "end_date = datetime.today()\n",
        "start_date = end_date - timedelta(days=5*365)  # 5 ปี\n",
        "\n",
        "all_data_list = []\n",
        "\n",
        "for ticker in tickers:\n",
        "    print(f\"📥 Downloading {ticker} ...\")\n",
        "    data = yf.download(ticker, start=start_date.strftime('%Y-%m-%d'), end=end_date.strftime('%Y-%m-%d'))\n",
        "\n",
        "    if data.empty:\n",
        "        print(f\"❌ No data for {ticker}\")\n",
        "        continue\n",
        "\n",
        "    data.reset_index(inplace=True)\n",
        "\n",
        "    if isinstance(data.columns, pd.MultiIndex):\n",
        "        data.columns = [' '.join(col).strip() if isinstance(col, tuple) else col for col in data.columns.values]\n",
        "\n",
        "    def clean_columns(cols):\n",
        "        cleaned = []\n",
        "        for col in cols:\n",
        "            if 'Date' in col:\n",
        "                cleaned.append('Date')\n",
        "            else:\n",
        "                cleaned.append(col.split()[0])\n",
        "        return cleaned\n",
        "\n",
        "    data.columns = clean_columns(data.columns)\n",
        "    data['Symbol'] = ticker.upper()\n",
        "\n",
        "    wanted_cols = ['Date', 'Close', 'High', 'Low', 'Open', 'Volume', 'Symbol']\n",
        "    data = data[[col for col in wanted_cols if col in data.columns]]\n",
        "\n",
        "    all_data_list.append(data)\n",
        "\n",
        "flat_df = pd.concat(all_data_list, ignore_index=True)\n",
        "flat_df['Date'] = pd.to_datetime(flat_df['Date'])\n",
        "flat_df['Symbol'] = flat_df['Symbol'].astype(str).str.upper()\n",
        "flat_df = flat_df.sort_values(by=['Symbol', 'Date']).reset_index(drop=True)\n",
        "\n",
        "# ------------------------------\n",
        "# 2. สร้างฟีเจอร์ Holiday Effect (แก้ไข)\n",
        "# ------------------------------\n",
        "nyse = mcal.get_calendar('NYSE')\n",
        "\n",
        "# ดึง list ของวันหยุดและแปลงเป็น DatetimeIndex\n",
        "holidays = pd.to_datetime(nyse.holidays().holidays)\n",
        "\n",
        "# สร้าง dummy variables\n",
        "flat_df['holiday'] = flat_df['Date'].isin(holidays).astype(int)\n",
        "flat_df['pre_holiday'] = flat_df['Date'].isin(holidays - pd.Timedelta(days=1)).astype(int)\n",
        "flat_df['post_holiday'] = flat_df['Date'].isin(holidays + pd.Timedelta(days=1)).astype(int)\n",
        "\n",
        "# ------------------------------\n",
        "# 3. สร้าง target variable (daily return)\n",
        "# ------------------------------\n",
        "flat_df['Return'] = flat_df.groupby('Symbol')['Close'].pct_change()  # (Close_t - Close_{t-1}) / Close_{t-1}\n",
        "\n",
        "# ลบแถวที่มี NaN (วันที่แรกของแต่ละหุ้น)\n",
        "flat_df.dropna(inplace=True)\n",
        "\n",
        "# ------------------------------\n",
        "# 4. เลือก features และ target\n",
        "# ------------------------------\n",
        "feature_cols = ['Open', 'High', 'Low', 'Close', 'Volume', 'holiday', 'pre_holiday', 'post_holiday']\n",
        "X = flat_df[feature_cols]\n",
        "y = flat_df['Return']\n",
        "\n",
        "# ------------------------------\n",
        "# 5. แบ่งข้อมูล train/test\n",
        "# ------------------------------\n",
        "X_train, X_test, y_train, y_test = train_test_split(X, y, test_size=0.2, shuffle=False)  # time series\n",
        "\n",
        "# ------------------------------\n",
        "# 6. สร้างและฝึกโมเดล\n",
        "# ------------------------------\n",
        "# Linear Regression\n",
        "lr_model = LinearRegression()\n",
        "lr_model.fit(X_train, y_train)\n",
        "y_pred_lr = lr_model.predict(X_test)\n",
        "\n",
        "# Random Forest\n",
        "rf_model = RandomForestRegressor(n_estimators=100, random_state=42)\n",
        "rf_model.fit(X_train, y_train)\n",
        "y_pred_rf = rf_model.predict(X_test)\n",
        "\n",
        "# ------------------------------\n",
        "# 7. ประเมินผลโมเดล\n",
        "# ------------------------------\n",
        "def evaluate(y_true, y_pred, model_name=\"Model\"):\n",
        "    rmse = np.sqrt(mean_squared_error(y_true, y_pred))\n",
        "    mae = mean_absolute_error(y_true, y_pred)\n",
        "    r2 = r2_score(y_true, y_pred)\n",
        "    print(f\"📊 {model_name} Performance:\")\n",
        "    print(f\"RMSE = {rmse:.6f}\")\n",
        "    print(f\"MAE  = {mae:.6f}\")\n",
        "    print(f\"R²   = {r2:.6f}\")\n",
        "    print(\"-\"*30)\n",
        "\n",
        "evaluate(y_test, y_pred_lr, \"Linear Regression\")\n",
        "evaluate(y_test, y_pred_rf, \"Random Forest\")\n",
        "\n",
        "# ------------------------------\n",
        "# 8. ตัวอย่างแสดง dataframe พร้อม features และ target\n",
        "# ------------------------------\n",
        "print(flat_df.head())\n"
      ],
      "metadata": {
        "colab": {
          "base_uri": "https://localhost:8080/"
        },
        "collapsed": true,
        "id": "7Nmf8q_UnpdC",
        "outputId": "3623bcaa-0266-49be-e985-95eb9e88155b"
      },
      "execution_count": null,
      "outputs": [
        {
          "output_type": "stream",
          "name": "stdout",
          "text": [
            "📥 Downloading GOOGL ...\n"
          ]
        },
        {
          "output_type": "stream",
          "name": "stderr",
          "text": [
            "/tmp/ipython-input-2802716029.py:26: FutureWarning: YF.download() has changed argument auto_adjust default to True\n",
            "  data = yf.download(ticker, start=start_date.strftime('%Y-%m-%d'), end=end_date.strftime('%Y-%m-%d'))\n",
            "[*********************100%***********************]  1 of 1 completed\n"
          ]
        },
        {
          "output_type": "stream",
          "name": "stdout",
          "text": [
            "📊 Linear Regression Performance:\n",
            "RMSE = 0.014344\n",
            "MAE  = 0.009887\n",
            "R²   = 0.460894\n",
            "------------------------------\n",
            "📊 Random Forest Performance:\n",
            "RMSE = 0.023344\n",
            "MAE  = 0.015634\n",
            "R²   = -0.427929\n",
            "------------------------------\n",
            "        Date      Close       High        Low       Open    Volume Symbol  \\\n",
            "1 2020-08-28  81.482819  81.578247  80.795944  80.987794  22418000  GOOGL   \n",
            "2 2020-08-31  80.990776  81.734811  80.782029  81.688587  26422000  GOOGL   \n",
            "3 2020-09-01  82.260658  82.466425  80.990778  81.121494  22652000  GOOGL   \n",
            "4 2020-09-02  85.357574  85.790479  82.514624  82.903292  49522000  GOOGL   \n",
            "5 2020-09-03  80.989784  84.493271  79.906278  84.469412  63726000  GOOGL   \n",
            "\n",
            "   holiday  pre_holiday  post_holiday    Return  \n",
            "1        0            0             0  0.006699  \n",
            "2        0            0             0 -0.006039  \n",
            "3        0            0             0  0.015679  \n",
            "4        0            0             0  0.037648  \n",
            "5        0            0             0 -0.051171  \n"
          ]
        }
      ]
    },
    {
      "cell_type": "code",
      "source": [
        "import pandas as pd\n",
        "import pandas_market_calendars as mcal\n",
        "\n",
        "# 1. สร้าง continuous date range\n",
        "all_dates = pd.DataFrame({'Date': pd.date_range(flat_df['Date'].min(), flat_df['Date'].max())})\n",
        "\n",
        "# 2. ขยาย Symbol list ให้ครบทุกวัน\n",
        "symbols = flat_df['Symbol'].unique()\n",
        "expanded_list = []\n",
        "for sym in symbols:\n",
        "    temp = all_dates.copy()\n",
        "    temp['Symbol'] = sym\n",
        "    expanded_list.append(temp)\n",
        "all_dates_symbols = pd.concat(expanded_list, ignore_index=True)\n",
        "\n",
        "# 3. merge กับ flat_df ของราคาหุ้น\n",
        "full_df = all_dates_symbols.merge(flat_df, on=['Date','Symbol'], how='left')\n",
        "\n",
        "# 4. สร้าง holiday / weekend\n",
        "nyse = mcal.get_calendar('NYSE')\n",
        "schedule = nyse.schedule(start_date=full_df['Date'].min(), end_date=full_df['Date'].max())\n",
        "business_days = schedule.index.normalize()\n",
        "business_set = set(business_days)\n",
        "\n",
        "full_df['holiday'] = (~full_df['Date'].isin(business_set)).astype(int)\n",
        "full_df['weekend'] = full_df['Date'].dt.dayofweek.isin([5,6]).astype(int)\n",
        "\n",
        "# 5. pre_holiday / post_holiday\n",
        "def compute_pre_holiday(date):\n",
        "    return int((date + pd.Timedelta(days=1)) not in business_set)\n",
        "\n",
        "def compute_post_holiday(date):\n",
        "    return int((date - pd.Timedelta(days=1)) not in business_set)\n",
        "\n",
        "full_df['pre_holiday'] = full_df['Date'].apply(compute_pre_holiday)\n",
        "full_df['post_holiday'] = full_df['Date'].apply(compute_post_holiday)\n",
        "\n",
        "# 6. ตรวจสอบ\n",
        "print(full_df[['Date','Symbol','Close','holiday','pre_holiday','post_holiday','weekend']].head(30))"
      ],
      "metadata": {
        "collapsed": true,
        "id": "9rySaovZw7ey",
        "colab": {
          "base_uri": "https://localhost:8080/"
        },
        "outputId": "8fa28e6f-b5ad-4012-9c12-e90a5d2452a2"
      },
      "execution_count": null,
      "outputs": [
        {
          "output_type": "stream",
          "name": "stdout",
          "text": [
            "         Date Symbol      Close  holiday  pre_holiday  post_holiday  weekend\n",
            "0  2020-08-28  GOOGL  81.482819        0            1             1        0\n",
            "1  2020-08-29  GOOGL        NaN        1            1             0        1\n",
            "2  2020-08-30  GOOGL        NaN        1            0             1        1\n",
            "3  2020-08-31  GOOGL  80.990776        0            0             1        0\n",
            "4  2020-09-01  GOOGL  82.260658        0            0             0        0\n",
            "5  2020-09-02  GOOGL  85.357574        0            0             0        0\n",
            "6  2020-09-03  GOOGL  80.989784        0            0             0        0\n",
            "7  2020-09-04  GOOGL  78.589180        0            1             0        0\n",
            "8  2020-09-05  GOOGL        NaN        1            1             0        1\n",
            "9  2020-09-06  GOOGL        NaN        1            1             1        1\n",
            "10 2020-09-07  GOOGL        NaN        1            0             1        0\n",
            "11 2020-09-08  GOOGL  75.725845        0            0             1        0\n",
            "12 2020-09-09  GOOGL  76.900314        0            0             0        0\n",
            "13 2020-09-10  GOOGL  75.847610        0            0             0        0\n",
            "14 2020-09-11  GOOGL  75.336182        0            1             0        0\n",
            "15 2020-09-12  GOOGL        NaN        1            1             0        1\n",
            "16 2020-09-13  GOOGL        NaN        1            0             1        1\n",
            "17 2020-09-14  GOOGL  74.991745        0            0             1        0\n",
            "18 2020-09-15  GOOGL  76.298416        0            0             0        0\n",
            "19 2020-09-16  GOOGL  75.153770        0            0             0        0\n",
            "20 2020-09-17  GOOGL  73.908745        0            0             0        0\n",
            "21 2020-09-18  GOOGL  72.121964        0            1             0        0\n",
            "22 2020-09-19  GOOGL        NaN        1            1             0        1\n",
            "23 2020-09-20  GOOGL        NaN        1            0             1        1\n",
            "24 2020-09-21  GOOGL  71.080704        0            0             1        0\n",
            "25 2020-09-22  GOOGL  72.555862        0            0             0        0\n",
            "26 2020-09-23  GOOGL  70.049385        0            0             0        0\n",
            "27 2020-09-24  GOOGL  70.718872        0            0             0        0\n",
            "28 2020-09-25  GOOGL  71.524048        0            1             0        0\n",
            "29 2020-09-26  GOOGL        NaN        1            1             0        1\n"
          ]
        }
      ]
    },
    {
      "cell_type": "code",
      "source": [
        "full_df.to_csv('full_df.csv', index=False)"
      ],
      "metadata": {
        "id": "1O26zS1cjhpi"
      },
      "execution_count": null,
      "outputs": []
    },
    {
      "cell_type": "code",
      "source": [
        "from scipy.stats import ttest_ind\n",
        "\n",
        "holiday_features = ['holiday', 'pre_holiday', 'post_holiday', 'weekend']\n",
        "\n",
        "for col in holiday_features:\n",
        "    group1 = full_df[full_df[col]==1]['Return'].dropna()\n",
        "    group2 = full_df[full_df[col]==0]['Return'].dropna()\n",
        "    t_stat, p_val = ttest_ind(group1, group2, equal_var=False)\n",
        "    print(f\"{col}: t-stat={t_stat:.4f}, p-value={p_val:.4f}\")\n"
      ],
      "metadata": {
        "collapsed": true,
        "id": "JRlwL_dyySL5"
      },
      "execution_count": null,
      "outputs": []
    }
  ]
}